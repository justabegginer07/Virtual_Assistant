{
 "cells": [
  {
   "cell_type": "code",
   "execution_count": 1,
   "metadata": {},
   "outputs": [],
   "source": [
    "import pyttsx3\n",
    "from decouple import config\n",
    "import sys\n",
    "\n",
    "USERNAME=config('USER')\n",
    "BOTNAME=config('BOTNAME')\n",
    "\n",
    "\n",
    "engine=pyttsx3.init('sapi5')\n",
    "engine.setProperty('rate',200)\n",
    "engine.setProperty('volume',1)\n",
    "voices=engine.getProperty('voices')\n",
    "engine.setProperty('voice',voices[1].id)"
   ]
  },
  {
   "cell_type": "code",
   "execution_count": 2,
   "metadata": {},
   "outputs": [],
   "source": [
    "def speak(text):\n",
    "    engine.say(text)\n",
    "    engine.runAndWait() # without this line you can't hear anything."
   ]
  },
  {
   "cell_type": "code",
   "execution_count": 3,
   "metadata": {},
   "outputs": [],
   "source": [
    "#speak(' hello. This is Purple. nice to meet you')"
   ]
  },
  {
   "cell_type": "code",
   "execution_count": 4,
   "metadata": {},
   "outputs": [],
   "source": [
    "from datetime import datetime\n",
    "\n",
    "def greet():\n",
    "    hour=datetime.now().hour\n",
    "    if (hour>=4) and (hour<12):\n",
    "        speak(f'Good Morning {USERNAME}')\n",
    "    elif (hour>=12) and (hour<17):\n",
    "        speak(f'Good Afternoon {USERNAME}')\n",
    "    elif (hour>=17) and (hour<21):\n",
    "        speak(f'Good Evening {USERNAME}')\n",
    "    speak(f'I am {BOTNAME}. How may i assist you, mam?')"
   ]
  },
  {
   "cell_type": "code",
   "execution_count": 5,
   "metadata": {},
   "outputs": [],
   "source": [
    "#greet()"
   ]
  },
  {
   "cell_type": "code",
   "execution_count": null,
   "metadata": {},
   "outputs": [],
   "source": [
    "import speech_recognition as sr\n",
    "from random import choice\n",
    "from utility import opening_text\n",
    "\n",
    "def user_input():\n",
    "    r=sr.Recognizer()\n",
    "    with sr.Microphone() as source:\n",
    "        print('Listening....')\n",
    "        r.pause_threshold=1\n",
    "        audio=r.listen(source)\n",
    "    try:\n",
    "        print('Recognizing....')\n",
    "        query=r.recognize_google(audio,language='en-in')\n",
    "        if 'exit' in query or 'stop' in query:\n",
    "            hour=datetime.now().hour\n",
    "            if hour >=21 and hour <4:\n",
    "                speak('Good night Mam. Take care')\n",
    "            else:\n",
    "                speak('have a good day Mam')\n",
    "            sys.exit()\n",
    "        else:\n",
    "            speak(choice(opening_text))\n",
    "    except Exception:\n",
    "        speak('Sorry Mam, I could not understand. Could you say that again.')\n",
    "        query='None'\n",
    "    return query"
   ]
  },
  {
   "cell_type": "code",
   "execution_count": 7,
   "metadata": {},
   "outputs": [],
   "source": [
    "import requests\n",
    "from functions.online_ops import search_on_google,search_on_wikipedia,send_email,send_whatsapp_message,get_latest_news,get_random_advice,get_random_joke,get_weather_report,play_on_youtube,get_city\n",
    "from functions.os_ops import open_notepad,open_cmd,open_calculator,open_camera\n",
    "from pprint import pprint"
   ]
  },
  {
   "cell_type": "code",
   "execution_count": 8,
   "metadata": {},
   "outputs": [
    {
     "name": "stdout",
     "output_type": "stream",
     "text": [
      "Listening....\n",
      "Recognizing....\n",
      "Description: Mist\n",
      "Temperature: 25.1℃\n",
      "Feels like: 26.5℃\n",
      "Listening....\n",
      "Recognizing....\n"
     ]
    },
    {
     "ename": "SystemExit",
     "evalue": "",
     "output_type": "error",
     "traceback": [
      "An exception has occurred, use %tb to see the full traceback.\n",
      "\u001b[1;31mSystemExit\u001b[0m\n"
     ]
    },
    {
     "name": "stderr",
     "output_type": "stream",
     "text": [
      "c:\\Users\\poongc\\Desktop\\vir_Assist\\.venv\\Lib\\site-packages\\IPython\\core\\interactiveshell.py:3585: UserWarning: To exit: use 'exit', 'quit', or Ctrl-D.\n",
      "  warn(\"To exit: use 'exit', 'quit', or Ctrl-D.\", stacklevel=1)\n"
     ]
    }
   ],
   "source": [
    "if __name__=='__main__':\n",
    "    greet()\n",
    "    while True:\n",
    "        query=user_input().lower()\n",
    "        \n",
    "        if 'open notepad' in query:\n",
    "            open_notepad()\n",
    "\n",
    "        elif 'open calculator' in query:\n",
    "            open_calculator()\n",
    "        \n",
    "        elif 'open command prompt' in query:\n",
    "            open_cmd()\n",
    "\n",
    "        elif 'open camera' in query:\n",
    "            open_camera()\n",
    "        \n",
    "        elif 'wikipedia' in query:\n",
    "            speak('What do you want to search in wikipedia, Mam?')\n",
    "            search_query=user_input().lower()\n",
    "            res=search_on_wikipedia(search_query)\n",
    "            speak(f\"According to Wikipedia, {res}\")\n",
    "            speak(\"For your convenience, I am printing it on the screen mam.\")\n",
    "            print(res)\n",
    "\n",
    "        elif 'youtube' in query:\n",
    "            speak('What do you want to play on youtube, mam?')\n",
    "            video=user_input().lower()\n",
    "            play_on_youtube(video)\n",
    "\n",
    "        elif 'search on google' in query:\n",
    "            speak('What do you want to search on Google, mam?')\n",
    "            query=user_input().lower()\n",
    "            search_on_google(query)\n",
    "\n",
    "        elif 'send whatsapp message' in query:\n",
    "            speak('On What number should i send the message sir? Please enter in the console: ')\n",
    "            number=input('Enter the number: ')\n",
    "            speak('What is the message mam?')\n",
    "            message=user_input().lower()\n",
    "            send_whatsapp_message(number,message)\n",
    "            speak(\"I've sent the message mam.\")\n",
    "\n",
    "        elif 'send an email' in query:\n",
    "            speak('On what email address do I send sir? Please enter in the console: ')\n",
    "            receiver_address=input('Enter email address: ')\n",
    "            speak(\"What should be the subject mam?\")\n",
    "            subject=user_input().capitalize()\n",
    "            speak(\"What's the message mam?\")\n",
    "            message=user_input().capitalize()\n",
    "            if send_email(receiver_address,subject,message):\n",
    "                speak(\"I've sent the email mam.\")\n",
    "            else:\n",
    "                speak(\"Something went wrong while I was sending the mail. Please check the error logs.\")\n",
    "\n",
    "        elif 'joke' in query:\n",
    "            speak(f'Hope you like this one mam')\n",
    "            joke=get_random_joke()\n",
    "            speak(joke)\n",
    "            speak('For your convenience, I am printing it on the screen mam.')\n",
    "            pprint(joke)\n",
    "\n",
    "        elif 'advice' in query:\n",
    "            speak(\"Here's an advice for you, mam\")\n",
    "            advice=get_random_advice()\n",
    "            speak(advice)\n",
    "            speak('For your convenience, I am printing it on the screen mam.')\n",
    "            pprint(advice)\n",
    "\n",
    "        elif 'weather' in query:\n",
    "            city=get_city()\n",
    "            speak(f\"Getting weather report for your city {city}\")\n",
    "            weather,temperature,feels_like=get_weather_report(city)\n",
    "            speak(f\"The current temperature is {temperature}, but it feels like {feels_like}.\")\n",
    "            speak(f\"Also the weather report talks about {weather}\")\n",
    "            speak('For your convenience, I am printing it on the screen mam.')\n",
    "            print(f\"Description: {weather}\\nTemperature: {temperature}\\nFeels like: {feels_like}\")\n",
    "\n",
    "        elif 'news' in query:\n",
    "            speak(f\"I'm reading out the latest news headlines, mam\")\n",
    "            speak(get_latest_news())\n",
    "            speak('For your convenience, I am printing it on the screen mam.')\n",
    "            print(*get_latest_news(),sep='\\n')"
   ]
  }
 ],
 "metadata": {
  "kernelspec": {
   "display_name": ".venv",
   "language": "python",
   "name": "python3"
  },
  "language_info": {
   "codemirror_mode": {
    "name": "ipython",
    "version": 3
   },
   "file_extension": ".py",
   "mimetype": "text/x-python",
   "name": "python",
   "nbconvert_exporter": "python",
   "pygments_lexer": "ipython3",
   "version": "3.12.1"
  }
 },
 "nbformat": 4,
 "nbformat_minor": 2
}
